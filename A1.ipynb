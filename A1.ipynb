{
 "cells": [
  {
   "cell_type": "code",
   "execution_count": 1,
   "id": "09f25a92",
   "metadata": {},
   "outputs": [
    {
     "data": {
      "text/plain": [
       "5"
      ]
     },
     "execution_count": 1,
     "metadata": {},
     "output_type": "execute_result"
    }
   ],
   "source": [
    "2+3"
   ]
  },
  {
   "cell_type": "code",
   "execution_count": null,
   "id": "5192d0ca",
   "metadata": {},
   "outputs": [],
   "source": []
  },
  {
   "cell_type": "code",
   "execution_count": 6,
   "id": "b81e59a7",
   "metadata": {},
   "outputs": [
    {
     "name": "stdout",
     "output_type": "stream",
     "text": [
      "sri\n",
      "add\n"
     ]
    }
   ],
   "source": [
    "class Speciality:\n",
    "    def __init__(self):\n",
    "        print(\"sri\")\n",
    "    def add(self):\n",
    "        print(\"add\")\n",
    "A=Speciality()\n",
    "A.add()\n"
   ]
  },
  {
   "cell_type": "code",
   "execution_count": 11,
   "id": "6f24aeb0",
   "metadata": {},
   "outputs": [
    {
     "name": "stdout",
     "output_type": "stream",
     "text": [
      "doctor\n",
      "surgeon\n",
      "engineer\n"
     ]
    }
   ],
   "source": [
    "class Speciality():\n",
    "    def surgeon(self):\n",
    "        print(\"surgeon\")\n",
    "class Doctor():\n",
    "    def doctor(self):\n",
    "        print(\"doctor\")\n",
    "class Engineer(Speciality,Doctor):\n",
    "    \n",
    "    def doctor(self):\n",
    "        print(\"doctor\")\n",
    "    def surgeon(self):\n",
    "        print(\"surgeon\")\n",
    "    def engineer(self):\n",
    "        print(\"engineer\")\n",
    "A=Engineer()\n",
    "A.doctor()\n",
    "A.surgeon()\n",
    "A.engineer()"
   ]
  },
  {
   "cell_type": "code",
   "execution_count": null,
   "id": "534771a6",
   "metadata": {},
   "outputs": [],
   "source": [
    "class Employee:\n",
    "    def __init__(self,name,seniority):\n",
    "        self.name=name\n",
    "        self.seniority=seniority\n",
    "        print()\n"
   ]
  },
  {
   "cell_type": "code",
   "execution_count": 13,
   "id": "a0157511",
   "metadata": {},
   "outputs": [
    {
     "data": {
      "text/plain": [
       "'11'"
      ]
     },
     "execution_count": 13,
     "metadata": {},
     "output_type": "execute_result"
    }
   ],
   "source": [
    "\"1\"+\"1\""
   ]
  },
  {
   "cell_type": "code",
   "execution_count": 12,
   "id": "33ac3132",
   "metadata": {},
   "outputs": [
    {
     "data": {
      "text/plain": [
       "2"
      ]
     },
     "execution_count": 12,
     "metadata": {},
     "output_type": "execute_result"
    }
   ],
   "source": [
    "1+1"
   ]
  },
  {
   "cell_type": "code",
   "execution_count": 20,
   "id": "816a93ba",
   "metadata": {},
   "outputs": [],
   "source": [
    "class Tv:\n",
    "    def turnon(self):\n",
    "        print(\"turned on tv\")\n",
    "class Ac:\n",
    "    def turnon(self):\n",
    "        print(\"turned on ac\")\n",
    "tv=Tv()\n",
    "ac=Ac()\n"
   ]
  },
  {
   "cell_type": "code",
   "execution_count": 21,
   "id": "c8e4eeb3",
   "metadata": {},
   "outputs": [],
   "source": [
    "def activate(obj):\n",
    "    obj.turnon()\n"
   ]
  },
  {
   "cell_type": "code",
   "execution_count": 23,
   "id": "0e364e2d",
   "metadata": {},
   "outputs": [
    {
     "name": "stdout",
     "output_type": "stream",
     "text": [
      "turned on ac\n"
     ]
    }
   ],
   "source": [
    "activate(ac)"
   ]
  },
  {
   "cell_type": "code",
   "execution_count": null,
   "id": "209b1622",
   "metadata": {},
   "outputs": [],
   "source": [
    "class Tv1990:\n",
    "    def turnon(self):\n",
    "        print(\"turned on tv1990\")\n",
    "    def turnoff(self):\n",
    "        print(\"turned off tv1990\")\n",
    "class Tv2000:\n",
    "    def turnon(self):\n",
    "        print(\"turned on tv2000\")\n",
    "    def turnoff(self):\n",
    "        print(\"turned off tv2000\")\n"
   ]
  },
  {
   "cell_type": "code",
   "execution_count": 2,
   "id": "2b93b26c",
   "metadata": {},
   "outputs": [
    {
     "name": "stdout",
     "output_type": "stream",
     "text": [
      "hello: a value is 10 and b value is 20\n"
     ]
    }
   ],
   "source": [
    "class A:\n",
    "    def add(self,a,b):\n",
    "        print(f\"hello: a value is {a} and b value is {b}\")\n",
    "\n",
    "a_obj=A()\n",
    "a_obj.add(10,20)"
   ]
  },
  {
   "cell_type": "code",
   "execution_count": null,
   "id": "bdc4d5fa",
   "metadata": {},
   "outputs": [],
   "source": [
    "#Inheritance :what if multiple parents have same method name ,how invoke the selected"
   ]
  }
 ],
 "metadata": {
  "kernelspec": {
   "display_name": "base",
   "language": "python",
   "name": "python3"
  },
  "language_info": {
   "codemirror_mode": {
    "name": "ipython",
    "version": 3
   },
   "file_extension": ".py",
   "mimetype": "text/x-python",
   "name": "python",
   "nbconvert_exporter": "python",
   "pygments_lexer": "ipython3",
   "version": "3.12.7"
  }
 },
 "nbformat": 4,
 "nbformat_minor": 5
}
